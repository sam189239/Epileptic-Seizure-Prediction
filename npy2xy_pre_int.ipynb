{
 "metadata": {
  "language_info": {
   "codemirror_mode": {
    "name": "ipython",
    "version": 3
   },
   "file_extension": ".py",
   "mimetype": "text/x-python",
   "name": "python",
   "nbconvert_exporter": "python",
   "pygments_lexer": "ipython3",
   "version": "3.7.9"
  },
  "orig_nbformat": 2,
  "kernelspec": {
   "name": "python379jvsc74a57bd0fbd145f7b50c1c9ac534d80f7cd5fe1f0e09d1e2f10adc8e92b4ef8644fd5482",
   "display_name": "Python 3.7.9 64-bit ('TensorFlow-GPU': conda)"
  }
 },
 "nbformat": 4,
 "nbformat_minor": 2,
 "cells": [
  {
   "cell_type": "code",
   "execution_count": 2,
   "metadata": {},
   "outputs": [],
   "source": [
    "import numpy as np "
   ]
  },
  {
   "source": [
    "## chb01"
   ],
   "cell_type": "markdown",
   "metadata": {}
  },
  {
   "cell_type": "code",
   "execution_count": 10,
   "metadata": {},
   "outputs": [],
   "source": [
    "chb01 = np.load('npy_arrays\\chb01.npy')"
   ]
  },
  {
   "cell_type": "code",
   "execution_count": 12,
   "metadata": {},
   "outputs": [
    {
     "output_type": "execute_result",
     "data": {
      "text/plain": [
       "(37373440, 23)"
      ]
     },
     "metadata": {},
     "execution_count": 12
    }
   ],
   "source": [
    "np.shape(chb01)"
   ]
  },
  {
   "cell_type": "code",
   "execution_count": 13,
   "metadata": {},
   "outputs": [],
   "source": [
    "chb01 = np.reshape(chb01,(29198,1280,23))"
   ]
  },
  {
   "cell_type": "code",
   "execution_count": 15,
   "metadata": {},
   "outputs": [],
   "source": [
    "X = chb01[1678:2038]\n",
    "y = np.ones(360)\n",
    "X = np.append(X,chb01[2092:2452],axis=0)\n",
    "y = np.append(y,np.ones(360))\n",
    "X = np.append(X,chb01[0:720],axis=0)\n",
    "y = np.append(y,np.zeros(720))\n",
    "X = np.append(X,chb01[10065:10425],axis=0)\n",
    "y = np.append(y,np.ones(360))\n",
    "X = np.append(X,chb01[10642:11002],axis=0)\n",
    "y = np.append(y,np.ones(360))\n",
    "X = np.append(X,chb01[8639:9359],axis=0)\n",
    "y = np.append(y,np.zeros(720))\n",
    "X2 = chb01[12223:12583]\n",
    "y2 = np.ones(360)\n",
    "X2 = np.append(X2,chb01[13917:14277],axis=0)\n",
    "y2 = np.append(y2,np.ones(360))\n",
    "X2 = np.append(X2,chb01[15652:16372],axis=0)\n",
    "y2 = np.append(y2,np.zeros(720))\n",
    "X2 = np.append(X2,chb01[17824:18184],axis=0)\n",
    "y2 = np.append(y2,np.ones(360))\n",
    "X2 = np.append(X2,chb01[16373:16733],axis=0)\n",
    "y2 = np.append(y2,np.zeros(360))\n",
    "X = np.append(X,X2,axis=0)\n",
    "y = np.append(y,y2,axis=0)"
   ]
  },
  {
   "cell_type": "code",
   "execution_count": 17,
   "metadata": {},
   "outputs": [
    {
     "output_type": "execute_result",
     "data": {
      "text/plain": [
       "(5040,)"
      ]
     },
     "metadata": {},
     "execution_count": 17
    }
   ],
   "source": [
    "np.shape(y)"
   ]
  },
  {
   "cell_type": "code",
   "execution_count": 18,
   "metadata": {},
   "outputs": [],
   "source": [
    "np.save(\"xy_arr_pre_int\\\\chb01_x\",X)\n",
    "np.save(\"xy_arr_pre_int\\\\chb01_y\",y)"
   ]
  },
  {
   "source": [
    "## chb03"
   ],
   "cell_type": "markdown",
   "metadata": {}
  },
  {
   "cell_type": "code",
   "execution_count": 6,
   "metadata": {},
   "outputs": [],
   "source": [
    "chb03 = np.load('npy_arrays\\chb03.npy')"
   ]
  },
  {
   "cell_type": "code",
   "execution_count": 7,
   "metadata": {},
   "outputs": [
    {
     "output_type": "execute_result",
     "data": {
      "text/plain": [
       "(35022080, 23)"
      ]
     },
     "metadata": {},
     "execution_count": 7
    }
   ],
   "source": [
    "np.shape(chb03)"
   ]
  },
  {
   "cell_type": "code",
   "execution_count": 8,
   "metadata": {},
   "outputs": [],
   "source": [
    "chb03 = np.reshape(chb03,(27361,1280,23))"
   ]
  },
  {
   "source": [
    "taking inter-ictal from chb03_21 onwards"
   ],
   "cell_type": "markdown",
   "metadata": {}
  },
  {
   "cell_type": "code",
   "execution_count": 10,
   "metadata": {},
   "outputs": [],
   "source": [
    "X = chb03[:72]\n",
    "y = np.ones(72)\n",
    "X = np.append(X,chb03[505:865],axis=0)\n",
    "y = np.append(y,np.ones(360))\n",
    "X = np.append(X,chb03[1165:1525],axis=0)\n",
    "y = np.append(y,np.ones(360))\n",
    "X = np.append(X,chb03[2231:2591],axis=0)\n",
    "y = np.append(y,np.ones(360))\n",
    "X = np.append(X,chb03[14400:16632],axis=0)\n",
    "y = np.append(y,np.zeros(2232))\n",
    "X = np.append(X,chb03[23796:24156],axis=0)\n",
    "y = np.append(y,np.ones(360))\n",
    "X = np.append(X,chb03[24638:24998],axis=0)\n",
    "y = np.append(y,np.ones(360))\n",
    "X = np.append(X,chb03[25185:25545],axis=0)\n",
    "y = np.append(y,np.ones(360))"
   ]
  },
  {
   "cell_type": "code",
   "execution_count": 14,
   "metadata": {},
   "outputs": [
    {
     "output_type": "execute_result",
     "data": {
      "text/plain": [
       "(4464, 1280, 23)"
      ]
     },
     "metadata": {},
     "execution_count": 14
    }
   ],
   "source": [
    "np.shape(X)"
   ]
  },
  {
   "cell_type": "code",
   "execution_count": 13,
   "metadata": {},
   "outputs": [],
   "source": [
    "np.save(\"xy_arr_pre_int\\\\chb03_x\",X)\n",
    "np.save(\"xy_arr_pre_int\\\\chb03_y\",y)"
   ]
  },
  {
   "source": [
    "## chb07"
   ],
   "cell_type": "markdown",
   "metadata": {}
  },
  {
   "cell_type": "code",
   "execution_count": 3,
   "metadata": {},
   "outputs": [],
   "source": [
    "chb07 = np.load('npy_arrays\\chb07.npy')"
   ]
  },
  {
   "cell_type": "code",
   "execution_count": 4,
   "metadata": {},
   "outputs": [
    {
     "output_type": "execute_result",
     "data": {
      "text/plain": [
       "(61794560, 23)"
      ]
     },
     "metadata": {},
     "execution_count": 4
    }
   ],
   "source": [
    "np.shape(chb07)"
   ]
  },
  {
   "cell_type": "code",
   "execution_count": 4,
   "metadata": {},
   "outputs": [],
   "source": [
    "chb07 = np.reshape(chb07,(48277,1280,23))"
   ]
  },
  {
   "source": [
    "taking inter-ictal from chb07_03 onwards"
   ],
   "cell_type": "markdown",
   "metadata": {}
  },
  {
   "cell_type": "code",
   "execution_count": 6,
   "metadata": {},
   "outputs": [],
   "source": [
    "X = chb07[28461:28821]\n",
    "y = np.ones(360)\n",
    "X = np.append(X,chb07[31014:31374],axis=0)\n",
    "y = np.append(y,np.ones(360))\n",
    "X = np.append(X,chb07[47771:48131],axis=0)\n",
    "y = np.append(y,np.ones(360))\n",
    "\n",
    "X = np.append(X,chb07[5762:6842],axis=0)\n",
    "y = np.append(y,np.zeros(1080))"
   ]
  },
  {
   "cell_type": "code",
   "execution_count": 8,
   "metadata": {},
   "outputs": [
    {
     "output_type": "execute_result",
     "data": {
      "text/plain": [
       "(2160,)"
      ]
     },
     "metadata": {},
     "execution_count": 8
    }
   ],
   "source": [
    "np.shape(y)"
   ]
  },
  {
   "cell_type": "code",
   "execution_count": 9,
   "metadata": {},
   "outputs": [],
   "source": [
    "np.save(\"xy_arr_pre_int\\\\chb07_x\",X)\n",
    "np.save(\"xy_arr_pre_int\\\\chb07_y\",y)"
   ]
  },
  {
   "source": [
    "## chb09"
   ],
   "cell_type": "markdown",
   "metadata": {}
  },
  {
   "cell_type": "code",
   "execution_count": 12,
   "metadata": {},
   "outputs": [],
   "source": [
    "chb09 = np.load('npy_arrays\\chb09.npy')"
   ]
  },
  {
   "cell_type": "code",
   "execution_count": 13,
   "metadata": {},
   "outputs": [
    {
     "output_type": "execute_result",
     "data": {
      "text/plain": [
       "(62545920, 23)"
      ]
     },
     "metadata": {},
     "execution_count": 13
    }
   ],
   "source": [
    "np.shape(chb09)"
   ]
  },
  {
   "cell_type": "code",
   "execution_count": 14,
   "metadata": {},
   "outputs": [],
   "source": [
    "chb09 = np.reshape(chb09,(48864,1280,23))"
   ]
  },
  {
   "cell_type": "code",
   "execution_count": 15,
   "metadata": {},
   "outputs": [],
   "source": [
    "X = chb09[15211:15571]\n",
    "y = np.ones(360)\n",
    "X = np.append(X,chb09[19114:19474],axis=0)\n",
    "y = np.append(y,np.ones(360))\n",
    "X = np.append(X,chb09[20363:20723],axis=0)\n",
    "y = np.append(y,np.ones(360))\n",
    "X = np.append(X,chb09[48422:48782],axis=0)\n",
    "y = np.append(y,np.ones(360))\n",
    "\n",
    "X = np.append(X,chb09[:1440],axis=0)\n",
    "y = np.append(y,np.zeros(1440))"
   ]
  },
  {
   "cell_type": "code",
   "execution_count": 16,
   "metadata": {},
   "outputs": [
    {
     "output_type": "execute_result",
     "data": {
      "text/plain": [
       "(2880, 1280, 23)"
      ]
     },
     "metadata": {},
     "execution_count": 16
    }
   ],
   "source": [
    "np.shape(X)"
   ]
  },
  {
   "cell_type": "code",
   "execution_count": 17,
   "metadata": {},
   "outputs": [],
   "source": [
    "np.save(\"xy_arr_pre_int\\\\chb09_x\",X)\n",
    "np.save(\"xy_arr_pre_int\\\\chb09_y\",y)"
   ]
  },
  {
   "source": [
    "## chb10"
   ],
   "cell_type": "markdown",
   "metadata": {}
  },
  {
   "cell_type": "code",
   "execution_count": 2,
   "metadata": {},
   "outputs": [
    {
     "output_type": "execute_result",
     "data": {
      "text/plain": [
       "(46099200, 23)"
      ]
     },
     "metadata": {},
     "execution_count": 2
    }
   ],
   "source": [
    "chb10 = np.load('data\\\\npy_arrays\\\\chb10.npy')\n",
    "np.shape(chb10)"
   ]
  },
  {
   "cell_type": "code",
   "execution_count": 3,
   "metadata": {},
   "outputs": [],
   "source": [
    "chb10 = np.reshape(chb10,(36015,1280,23))"
   ]
  },
  {
   "cell_type": "code",
   "execution_count": 14,
   "metadata": {},
   "outputs": [],
   "source": [
    "X = chb10[12425:12785]\n",
    "y = np.ones(360)\n",
    "X = np.append(X,chb10[24060:24420],axis=0)\n",
    "y = np.append(y,np.ones(360))\n",
    "X = np.append(X,chb10[27481:27841],axis=0)\n",
    "y = np.append(y,np.ones(360))\n",
    "X = np.append(X,chb10[30492:30852],axis=0)\n",
    "y = np.append(y,np.ones(360))\n",
    "\n",
    "X = np.append(X,chb10[:2435],axis=0)\n",
    "y = np.append(y,np.zeros(2435))\n",
    "\n",
    "X = np.append(X,chb10[32090:32450],axis=0)\n",
    "y = np.append(y,np.ones(360))\n",
    "X = np.append(X,chb10[33697:34057],axis=0)\n",
    "y = np.append(y,np.ones(360))\n",
    "X = np.append(X,chb10[34575:34850],axis=0)\n",
    "y = np.append(y,np.ones(275))"
   ]
  },
  {
   "cell_type": "code",
   "execution_count": 16,
   "metadata": {},
   "outputs": [
    {
     "output_type": "execute_result",
     "data": {
      "text/plain": [
       "(4870,)"
      ]
     },
     "metadata": {},
     "execution_count": 16
    }
   ],
   "source": [
    "np.shape(y)"
   ]
  },
  {
   "cell_type": "code",
   "execution_count": 17,
   "metadata": {},
   "outputs": [],
   "source": [
    "np.save(\"data\\\\xy_arr_pre_int\\\\chb10_x\",X)\n",
    "np.save(\"data\\\\xy_arr_pre_int\\\\chb10_y\",y)"
   ]
  },
  {
   "source": [
    "## chb20"
   ],
   "cell_type": "markdown",
   "metadata": {}
  },
  {
   "cell_type": "code",
   "execution_count": 4,
   "metadata": {},
   "outputs": [
    {
     "output_type": "execute_result",
     "data": {
      "text/plain": [
       "(25433600, 23)"
      ]
     },
     "metadata": {},
     "execution_count": 4
    }
   ],
   "source": [
    "chb20 = np.load('data\\\\npy_arrays\\\\chb20.npy')\n",
    "np.shape(chb20)"
   ]
  },
  {
   "cell_type": "code",
   "execution_count": 5,
   "metadata": {},
   "outputs": [],
   "source": [
    "chb20 = np.reshape(chb20,(19870,1280,23))"
   ]
  },
  {
   "cell_type": "code",
   "execution_count": 6,
   "metadata": {},
   "outputs": [],
   "source": [
    "X = chb20[6139:6499]\n",
    "y = np.ones(360)\n",
    "X = np.append(X,chb20[7129:7489],axis=0)\n",
    "y = np.append(y,np.ones(360))\n",
    "X = np.append(X,chb20[7495:7700],axis=0)\n",
    "y = np.append(y,np.ones(205))\n",
    "X = np.append(X,chb20[7955:8315],axis=0)\n",
    "y = np.append(y,np.ones(360))\n",
    "\n",
    "X = np.append(X,chb20[:2617],axis=0)\n",
    "y = np.append(y,np.zeros(2617))\n",
    "\n",
    "X = np.append(X,chb20[8359:8719],axis=0)\n",
    "y = np.append(y,np.ones(360))\n",
    "X = np.append(X,chb20[8726:8978],axis=0)\n",
    "y = np.append(y,np.ones(252))\n",
    "X = np.append(X,chb20[9446:9806],axis=0)\n",
    "y = np.append(y,np.ones(360))\n",
    "X = np.append(X,chb20[19355:19715],axis=0)\n",
    "y = np.append(y,np.ones(360))"
   ]
  },
  {
   "cell_type": "code",
   "execution_count": 8,
   "metadata": {},
   "outputs": [
    {
     "output_type": "execute_result",
     "data": {
      "text/plain": [
       "(5234, 1280, 23)"
      ]
     },
     "metadata": {},
     "execution_count": 8
    }
   ],
   "source": [
    "np.shape(X)"
   ]
  },
  {
   "cell_type": "code",
   "execution_count": 9,
   "metadata": {},
   "outputs": [],
   "source": [
    "np.save(\"data\\\\xy_arr_pre_int\\\\chb20_x\",X)\n",
    "np.save(\"data\\\\xy_arr_pre_int\\\\chb20_y\",y)"
   ]
  },
  {
   "source": [
    "## chb21"
   ],
   "cell_type": "markdown",
   "metadata": {}
  },
  {
   "cell_type": "code",
   "execution_count": 2,
   "metadata": {},
   "outputs": [
    {
     "output_type": "execute_result",
     "data": {
      "text/plain": [
       "(30256640, 23)"
      ]
     },
     "metadata": {},
     "execution_count": 2
    }
   ],
   "source": [
    "chb21 = np.load('data\\\\npy_arrays\\\\chb21.npy')\n",
    "np.shape(chb21)"
   ]
  },
  {
   "cell_type": "code",
   "execution_count": 3,
   "metadata": {},
   "outputs": [],
   "source": [
    "chb21 = np.reshape(chb21,(23638,1280,23))"
   ]
  },
  {
   "cell_type": "code",
   "execution_count": 4,
   "metadata": {},
   "outputs": [],
   "source": [
    "X = chb21[12857:13217]\n",
    "y = np.ones(360)\n",
    "X = np.append(X,chb21[13845:14205],axis=0)\n",
    "y = np.append(y,np.ones(360))\n",
    "X = np.append(X,chb21[14318:14678],axis=0)\n",
    "y = np.append(y,np.ones(360))\n",
    "X = np.append(X,chb21[15148:15508],axis=0)\n",
    "y = np.append(y,np.ones(360))\n",
    "\n",
    "X = np.append(X,chb21[:1440],axis=0)\n",
    "y = np.append(y,np.zeros(1440))"
   ]
  },
  {
   "cell_type": "code",
   "execution_count": 6,
   "metadata": {},
   "outputs": [
    {
     "output_type": "execute_result",
     "data": {
      "text/plain": [
       "(2880,)"
      ]
     },
     "metadata": {},
     "execution_count": 6
    }
   ],
   "source": [
    "np.shape(y)"
   ]
  },
  {
   "cell_type": "code",
   "execution_count": 7,
   "metadata": {},
   "outputs": [],
   "source": [
    "np.save(\"data\\\\xy_arr_pre_int\\\\chb21_x\",X)\n",
    "np.save(\"data\\\\xy_arr_pre_int\\\\chb21_y\",y)"
   ]
  },
  {
   "source": [
    "## chb22"
   ],
   "cell_type": "markdown",
   "metadata": {}
  },
  {
   "cell_type": "code",
   "execution_count": 7,
   "metadata": {},
   "outputs": [],
   "source": [
    "chb22 = np.load('data\\\\npy_arrays\\\\chb22.npy')"
   ]
  },
  {
   "cell_type": "code",
   "execution_count": 8,
   "metadata": {},
   "outputs": [
    {
     "output_type": "execute_result",
     "data": {
      "text/plain": [
       "(28572160, 23)"
      ]
     },
     "metadata": {},
     "execution_count": 8
    }
   ],
   "source": [
    "np.shape(chb22)"
   ]
  },
  {
   "cell_type": "code",
   "execution_count": 9,
   "metadata": {},
   "outputs": [],
   "source": [
    "chb22 = np.reshape(chb22,(22322,1280,23))"
   ]
  },
  {
   "cell_type": "code",
   "execution_count": 10,
   "metadata": {},
   "outputs": [],
   "source": [
    "X = chb22[11835:12195]\n",
    "y = np.ones(360)\n",
    "X = np.append(X,chb22[15389:15749],axis=0)\n",
    "y = np.append(y,np.ones(360))\n",
    "X = np.append(X,chb22[19442:19694],axis=0)\n",
    "y = np.append(y,np.ones(252))\n",
    "\n",
    "X = np.append(X,chb22[:972],axis=0)\n",
    "y = np.append(y,np.zeros(972))"
   ]
  },
  {
   "cell_type": "code",
   "execution_count": 11,
   "metadata": {},
   "outputs": [
    {
     "output_type": "execute_result",
     "data": {
      "text/plain": [
       "(1944,)"
      ]
     },
     "metadata": {},
     "execution_count": 11
    }
   ],
   "source": [
    "np.shape(y)"
   ]
  },
  {
   "cell_type": "code",
   "execution_count": 12,
   "metadata": {},
   "outputs": [],
   "source": [
    "np.save(\"data\\\\xy_arr_pre_int\\\\chb22_x\",X)\n",
    "np.save(\"data\\\\xy_arr_pre_int\\\\chb22_y\",y)"
   ]
  },
  {
   "cell_type": "code",
   "execution_count": null,
   "metadata": {},
   "outputs": [],
   "source": []
  }
 ]
}