{
 "metadata": {
  "language_info": {
   "codemirror_mode": {
    "name": "ipython",
    "version": 3
   },
   "file_extension": ".py",
   "mimetype": "text/x-python",
   "name": "python",
   "nbconvert_exporter": "python",
   "pygments_lexer": "ipython3",
   "version": "3.7.9"
  },
  "orig_nbformat": 4,
  "kernelspec": {
   "name": "python3",
   "display_name": "Python 3.7.9 64-bit ('TensorFlow-GPU': conda)"
  },
  "interpreter": {
   "hash": "fbd145f7b50c1c9ac534d80f7cd5fe1f0e09d1e2f10adc8e92b4ef8644fd5482"
  }
 },
 "nbformat": 4,
 "nbformat_minor": 2,
 "cells": [
  {
   "cell_type": "code",
   "execution_count": 1,
   "metadata": {},
   "outputs": [],
   "source": [
    "import numpy as np"
   ]
  },
  {
   "cell_type": "code",
   "execution_count": 4,
   "metadata": {},
   "outputs": [],
   "source": [
    "chb01 = np.load('data\\\\npy_arrays\\chb01.npy')"
   ]
  },
  {
   "cell_type": "code",
   "execution_count": 6,
   "metadata": {},
   "outputs": [],
   "source": [
    "chb01 = np.reshape(chb01,(29198,1280,23))"
   ]
  },
  {
   "cell_type": "code",
   "execution_count": 8,
   "metadata": {},
   "outputs": [],
   "source": [
    "X1 = chb01[16744:18204] # 18184 + 20 (1460)"
   ]
  },
  {
   "cell_type": "code",
   "execution_count": 11,
   "metadata": {},
   "outputs": [],
   "source": [
    "np.save('data\\\\testseizures\\\\X1.npy',X1)"
   ]
  },
  {
   "cell_type": "code",
   "execution_count": 10,
   "metadata": {},
   "outputs": [],
   "source": [
    "chb03 = np.load('data\\\\npy_arrays\\chb03.npy')"
   ]
  },
  {
   "cell_type": "code",
   "execution_count": 17,
   "metadata": {},
   "outputs": [],
   "source": [
    "chb03 = np.reshape(chb03,(27361,1280,23))"
   ]
  },
  {
   "cell_type": "code",
   "execution_count": 18,
   "metadata": {},
   "outputs": [],
   "source": [
    "X2 = chb03[24105:25555] # 25545 + 10 (1450)"
   ]
  },
  {
   "cell_type": "code",
   "execution_count": 19,
   "metadata": {},
   "outputs": [],
   "source": [
    "np.save('data\\\\testseizures\\\\X2.npy',X2)"
   ]
  },
  {
   "cell_type": "code",
   "execution_count": 20,
   "metadata": {},
   "outputs": [],
   "source": [
    "chb07 = np.load('data\\\\npy_arrays\\\\chb07.npy')"
   ]
  },
  {
   "cell_type": "code",
   "execution_count": 21,
   "metadata": {},
   "outputs": [],
   "source": [
    "chb07 = np.reshape(chb07,(48277,1280,23))"
   ]
  },
  {
   "cell_type": "code",
   "execution_count": 22,
   "metadata": {},
   "outputs": [],
   "source": [
    "X3 = chb07[46691:48159] # 48131 + 28 (1468)"
   ]
  },
  {
   "cell_type": "code",
   "execution_count": 23,
   "metadata": {},
   "outputs": [],
   "source": [
    "np.save('data\\\\testseizures\\\\X3.npy',X3)"
   ]
  },
  {
   "cell_type": "code",
   "execution_count": 8,
   "metadata": {},
   "outputs": [
    {
     "output_type": "execute_result",
     "data": {
      "text/plain": [
       "(1452, 1280, 23)"
      ]
     },
     "metadata": {},
     "execution_count": 8
    }
   ],
   "source": [
    "np.shape(X4)"
   ]
  },
  {
   "cell_type": "code",
   "execution_count": 3,
   "metadata": {},
   "outputs": [],
   "source": [
    "chb09 = np.load('data\\\\npy_arrays\\\\chb09.npy')"
   ]
  },
  {
   "cell_type": "code",
   "execution_count": 4,
   "metadata": {},
   "outputs": [],
   "source": [
    "chb09 = np.reshape(chb09,(48864,1280,23))"
   ]
  },
  {
   "cell_type": "code",
   "execution_count": 6,
   "metadata": {},
   "outputs": [],
   "source": [
    "X4 = chb09[47342:48794] # 48782 + 12 (1452)"
   ]
  },
  {
   "cell_type": "code",
   "execution_count": 7,
   "metadata": {},
   "outputs": [],
   "source": [
    "np.save('data\\\\testseizures\\\\X4.npy',X4)"
   ]
  },
  {
   "cell_type": "code",
   "execution_count": 2,
   "metadata": {},
   "outputs": [],
   "source": [
    "chb10 = np.load('data\\\\npy_arrays\\\\chb10.npy')"
   ]
  },
  {
   "cell_type": "code",
   "execution_count": 3,
   "metadata": {},
   "outputs": [],
   "source": [
    "chb10 = np.reshape(chb10,(36015,1280,23))"
   ]
  },
  {
   "cell_type": "code",
   "execution_count": 6,
   "metadata": {},
   "outputs": [],
   "source": [
    "X5 = chb10[33410:34860] # 34850 + 10 (1460)"
   ]
  },
  {
   "cell_type": "code",
   "execution_count": 7,
   "metadata": {},
   "outputs": [],
   "source": [
    "np.save('data\\\\testseizures\\\\X5.npy',X5)"
   ]
  },
  {
   "cell_type": "code",
   "execution_count": 4,
   "metadata": {},
   "outputs": [],
   "source": [
    "chb20 = np.load('data\\\\npy_arrays\\\\chb20.npy')\n",
    "chb20 = np.reshape(chb20,(19870,1280,23))\n",
    "X6 = chb20[18275:19722] # 19715 + 7 (1447)\n",
    "np.save('data\\\\testseizures\\\\X6.npy',X6)"
   ]
  },
  {
   "cell_type": "code",
   "execution_count": 3,
   "metadata": {},
   "outputs": [],
   "source": [
    "chb21 = np.load('data\\\\npy_arrays\\\\chb21.npy')\n",
    "chb21 = np.reshape(chb21,(23638,1280,23))\n",
    "X7 = chb21[14068:15510] # 15508 + 2 (1442)\n",
    "np.save('data\\\\testseizures\\\\X7.npy',X7)"
   ]
  },
  {
   "cell_type": "code",
   "execution_count": null,
   "metadata": {},
   "outputs": [],
   "source": [
    "# chb22 = np.load('data\\\\npy_arrays\\\\chb22.npy')\n",
    "# chb22 = np.reshape(chb22,(22322,1280,23))\n",
    "# X8 = chb22[14068:15510] # 15508 + 2 (1442)\n",
    "# np.save('data\\\\testseizures\\\\X8.npy',X8)"
   ]
  }
 ]
}